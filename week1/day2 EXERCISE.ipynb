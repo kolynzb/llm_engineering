{
 "cells": [
  {
   "cell_type": "markdown",
   "id": "d15d8294-3328-4e07-ad16-8a03e9bbfdb9",
   "metadata": {},
   "source": [
    "# HOMEWORK EXERCISE ASSIGNMENT\n",
    "\n",
    "Upgrade the day 1 project to summarize a webpage to use an Open Source model running locally via Ollama rather than OpenAI\n",
    "\n",
    "You'll be able to use this technique for all subsequent projects if you'd prefer not to use paid APIs.\n",
    "\n",
    "**Benefits:**\n",
    "1. No API charges - open-source\n",
    "2. Data doesn't leave your box\n",
    "\n",
    "**Disadvantages:**\n",
    "1. Significantly less power than Frontier Model\n",
    "\n",
    "## Recap on installation of Ollama\n",
    "\n",
    "Simply visit [ollama.com](https://ollama.com) and install!\n",
    "\n",
    "Once complete, the ollama server should already be running locally.  \n",
    "If you visit:  \n",
    "[http://localhost:11434/](http://localhost:11434/)\n",
    "\n",
    "You should see the message `Ollama is running`.  \n",
    "\n",
    "If not, bring up a new Terminal (Mac) or Powershell (Windows) and enter `ollama serve`  \n",
    "Then try [http://localhost:11434/](http://localhost:11434/) again."
   ]
  },
  {
   "cell_type": "code",
   "execution_count": 1,
   "id": "4e2a9393-7767-488e-a8bf-27c12dca35bd",
   "metadata": {},
   "outputs": [],
   "source": [
    "# imports\n",
    "\n",
    "import requests\n",
    "from bs4 import BeautifulSoup\n",
    "from IPython.display import Markdown, display"
   ]
  },
  {
   "cell_type": "code",
   "execution_count": 2,
   "id": "29ddd15d-a3c5-4f4e-a678-873f56162724",
   "metadata": {},
   "outputs": [],
   "source": [
    "# Constants\n",
    "\n",
    "OLLAMA_API = \"http://localhost:11434/api/chat\"\n",
    "HEADERS = {\"Content-Type\": \"application/json\"}\n",
    "MODEL = \"llama3.2\""
   ]
  },
  {
   "cell_type": "code",
   "execution_count": 3,
   "id": "dac0a679-599c-441f-9bf2-ddc73d35b940",
   "metadata": {},
   "outputs": [],
   "source": [
    "# Create a messages list using the same format that we used for OpenAI\n",
    "\n",
    "messages = [\n",
    "    {\"role\": \"user\", \"content\": \"Describe some of the business applications of Generative AI\"}\n",
    "]"
   ]
  },
  {
   "cell_type": "code",
   "execution_count": 4,
   "id": "7bb9c624-14f0-4945-a719-8ddb64f66f47",
   "metadata": {},
   "outputs": [],
   "source": [
    "payload = {\n",
    "        \"model\": MODEL,\n",
    "        \"messages\": messages,\n",
    "        \"stream\": False\n",
    "    }"
   ]
  },
  {
   "cell_type": "code",
   "execution_count": 5,
   "id": "42b9f644-522d-4e05-a691-56e7658c0ea9",
   "metadata": {},
   "outputs": [
    {
     "name": "stdout",
     "output_type": "stream",
     "text": [
      "Generative AI has numerous business applications across various industries, including:\n",
      "\n",
      "1. **Content Generation**: AI-powered tools can generate high-quality content such as articles, social media posts, product descriptions, and even entire books.\n",
      "2. **Marketing Automation**: Generative AI can help automate marketing tasks like email campaigns, ad copywriting, and lead generation, freeing up time for more strategic efforts.\n",
      "3. **Customer Service Chatbots**: AI-powered chatbots can provide 24/7 customer support, answering frequently asked questions, and routing complex issues to human representatives.\n",
      "4. **Product Design**: Generative AI can help create innovative product designs, concept art, and even entire product lines, reducing design time and increasing efficiency.\n",
      "5. **Financial Analysis**: AI-powered tools can analyze large datasets, identify trends, and generate predictions, helping businesses make data-driven decisions.\n",
      "6. **Personalization**: Generative AI can help personalize customer experiences by generating tailored content, recommendations, and offers based on individual preferences and behavior.\n",
      "7. **Image and Video Generation**: AI can generate high-quality images and videos for various applications, such as product visualization, social media content, and advertising.\n",
      "8. **Music and Audio Generation**: Generative AI can create original music, sound effects, and audio tracks for various industries, including film, gaming, and music production.\n",
      "9. **Language Translation**: AI-powered tools can translate languages in real-time, helping businesses communicate with global customers and partners.\n",
      "10. **Predictive Maintenance**: Generative AI can analyze sensor data from machines and predict when maintenance is required, reducing downtime and increasing overall efficiency.\n",
      "11. **Supply Chain Optimization**: AI-powered tools can optimize supply chain operations by predicting demand, managing inventory, and streamlining logistics.\n",
      "12. **Data Augmentation**: Generative AI can generate synthetic data to augment existing datasets, improving model performance and enabling businesses to make more informed decisions.\n",
      "13. **Cybersecurity Threat Analysis**: AI-powered tools can analyze network traffic and identify potential security threats in real-time, helping businesses protect their networks and systems.\n",
      "14. **Human Resources Management**: Generative AI can help automate HR tasks like resume screening, job matching, and employee onboarding, freeing up time for more strategic efforts.\n",
      "15. **Education and Training**: AI-powered tools can generate personalized learning content, adapt to individual learning styles, and provide real-time feedback.\n",
      "\n",
      "These applications are just a few examples of the many ways Generative AI is being used in business. As the technology continues to evolve, we can expect even more innovative use cases to emerge.\n"
     ]
    }
   ],
   "source": [
    "response = requests.post(OLLAMA_API, json=payload, headers=HEADERS)\n",
    "print(response.json()['message']['content'])"
   ]
  },
  {
   "cell_type": "markdown",
   "id": "6a021f13-d6a1-4b96-8e18-4eae49d876fe",
   "metadata": {},
   "source": [
    "# Introducing the ollama package\n",
    "\n",
    "And now we'll do the same thing, but using the elegant ollama python package instead of a direct HTTP call.\n",
    "\n",
    "Under the hood, it's making the same call as above to the ollama server running at localhost:11434"
   ]
  },
  {
   "cell_type": "code",
   "execution_count": 19,
   "id": "7745b9c4-57dc-4867-9180-61fa5db55eb8",
   "metadata": {},
   "outputs": [
    {
     "name": "stdout",
     "output_type": "stream",
     "text": [
      "Generative AI has numerous business applications across various industries. Here are some examples:\n",
      "\n",
      "1. **Content Creation**: Generative AI can be used to generate high-quality content such as images, videos, and text based on a given prompt or topic. This can be useful for businesses that need to create large amounts of content quickly, such as social media management companies, advertising agencies, and e-commerce sites.\n",
      "2. **Product Design and Engineering**: Generative AI can be used to design new products, such as furniture, cars, and electronics, by generating 3D models and prototypes. This can help businesses reduce their product development time and costs.\n",
      "3. **Marketing and Advertising**: Generative AI can be used to create personalized marketing messages and advertisements based on customer data and behavior. This can help businesses improve their ad targeting and increase conversions.\n",
      "4. **Data Analysis and Visualization**: Generative AI can be used to generate visualizations of complex data sets, such as financial reports and market trends. This can help businesses make better informed decisions by providing a more intuitive understanding of their data.\n",
      "5. **Customer Service**: Generative AI can be used to create chatbots that provide personalized customer support and recommendations based on customer behavior and preferences.\n",
      "6. **Language Translation**: Generative AI can be used to generate high-quality translations for businesses that need to communicate with customers in different languages.\n",
      "7. **Image and Video Editing**: Generative AI can be used to edit images and videos, such as removing noise or applying filters, making it easier for businesses to create high-quality visual content.\n",
      "8. **Music and Audio Generation**: Generative AI can be used to generate music and audio effects for businesses that need to create unique soundscapes for their products or advertisements.\n",
      "9. **Business Process Automation**: Generative AI can be used to automate business processes, such as generating reports and invoices, reducing the need for manual data entry and improving efficiency.\n",
      "10. **Predictive Analytics**: Generative AI can be used to generate predictions about future trends and behaviors, helping businesses make more informed decisions about investments, resource allocation, and risk management.\n",
      "\n",
      "Some specific examples of companies using Generative AI include:\n",
      "\n",
      "* **Amazon**: Using Generative AI to create personalized product recommendations for customers\n",
      "* **Walmart**: Using Generative AI to generate product designs and prototypes for new products\n",
      "* **Google**: Using Generative AI to improve image and video recognition, and to generate high-quality translations\n",
      "* **Microsoft**: Using Generative AI to automate business processes, such as generating reports and invoices\n",
      "* **Salesforce**: Using Generative AI to create personalized customer support chatbots\n",
      "\n",
      "These are just a few examples of the many ways that Generative AI is being used in businesses. As the technology continues to evolve, we can expect to see even more innovative applications across various industries.\n"
     ]
    }
   ],
   "source": [
    "import ollama\n",
    "\n",
    "response = ollama.chat(model=MODEL, messages=messages)\n",
    "print(response['message']['content'])"
   ]
  },
  {
   "cell_type": "code",
   "execution_count": null,
   "id": "9a611b05-b5b0-4c83-b82d-b3a39ffb917d",
   "metadata": {},
   "outputs": [],
   "source": []
  },
  {
   "cell_type": "markdown",
   "id": "1622d9bb-5c68-4d4e-9ca4-b492c751f898",
   "metadata": {},
   "source": [
    "# NOW the exercise for you\n",
    "\n",
    "Take the code from day1 and incorporate it here, to build a website summarizer that uses Llama 3.2 running locally instead of OpenAI"
   ]
  },
  {
   "cell_type": "code",
   "execution_count": 6,
   "id": "3300b619",
   "metadata": {},
   "outputs": [],
   "source": [
    "from bs4 import BeautifulSoup\n",
    "from IPython.display import Markdown, display"
   ]
  },
  {
   "cell_type": "code",
   "execution_count": 9,
   "id": "24e6d156",
   "metadata": {},
   "outputs": [],
   "source": [
    "# A class to represent a Webpage\n",
    "# If you're not familiar with Classes, check out the \"Intermediate Python\" notebook\n",
    "\n",
    "class Website:\n",
    "    \"\"\"\n",
    "    A utility class to represent a Website that we have scraped\n",
    "    \"\"\"\n",
    "\n",
    "    def __init__(self, url):\n",
    "        \"\"\"\n",
    "        Create this Website object from the given url using the BeautifulSoup library\n",
    "        \"\"\"\n",
    "        self.url = url\n",
    "        response = requests.get(url)\n",
    "        soup = BeautifulSoup(response.content, 'html.parser')\n",
    "        self.title = soup.title.string if soup.title else \"No title found\"\n",
    "        for irrelevant in soup.body([\"script\", \"style\", \"img\", \"input\"]):\n",
    "            irrelevant.decompose()\n",
    "        self.text = soup.body.get_text(separator=\"\\n\", strip=True)"
   ]
  },
  {
   "cell_type": "code",
   "execution_count": 11,
   "id": "4c711d67",
   "metadata": {},
   "outputs": [
    {
     "name": "stdout",
     "output_type": "stream",
     "text": [
      "Connecting companies with the universe's most creative creatives - WNW\n",
      "We, and our partners, use cookies to deliver our services. By using our website you agree to the use of cookies as described in our\n",
      "Privacy Policy\n",
      ".\n",
      "Okay\n",
      "NTRNL ™\n",
      "Log in\n",
      "NTRNL ™\n",
      "Login\n",
      "Register now\n",
      "Hire the best creative talent. here. now.\n",
      "Discover\n",
      "All\n",
      "All Creatives\n",
      "All Jobs\n",
      "Popular Searches\n",
      "Maya\n",
      "Illustrator / Animator / Artist\n",
      "Sanmi\n",
      "Creative Director / Brand Designer / UI Designer\n",
      "sarah\n",
      "Art Director / Designer / Illustrator\n",
      "Ellen\n",
      "Director / Creative Director / Writer\n",
      "Tobin\n",
      "Director / Writer / Editor (Brand/Content)\n",
      "Rosalee\n",
      "Art Director / Designer / Writer\n",
      "Katie\n",
      "Creative Director / Copywriter / Strategist\n",
      "Michael V.\n",
      "Art Director / UX/IA Designer / Creative Technologist\n",
      "We Give the People (Who Hire People) What They Want\n",
      "A Curated Community of 100,000+ Creatives\n",
      "Imagine if all the portfolio sites of the best freelance, full-time, and part-time talent, from intern to executive across every creative industry, were aggregated, searchable, and filterable. Actually don't imagine it. It's here.\n",
      "Okay, sign me up\n",
      "TECHNOLOGY THAT RESPECTS RECRUITERS\n",
      "Go beyond a generic job post with advanced tools developed alongside actual recruiters. Searching for your next hire is hassle-free. Real-time availability means no chasing.\n",
      "Sign me up Already\n",
      "We Love Recruiters. The Feeling Is Mutual.\n",
      "\"It’s about quality and getting the A+ people”\n",
      "“Angelo Ferrugia, Head of Global Production, Electonic Arts”\n",
      "\"ANNOYINGLY SMART. MARVELOUSLY USEFUL. BIG FAN.”\n",
      "“David Droga, Creative Chairman, Droga5”\n",
      "“WORKING NOT WORKING IS A LIFESAVER FOR ME.”\n",
      "“Margaret Morales, Creative Recruiter, HUGE”\n",
      "“WHY THE FUCK DIDN’T YOU START THIS SOONER?”\n",
      "“Brian Collins, Chief Creative Officer, Collins”\n",
      "Where to Now?\n",
      "I want to look for talent\n",
      "Explore our global talent community to find your next hire. Your search starts (and ends) here.\n",
      "FIND A CREATIVE\n",
      "I Want Talent to Find Me\n",
      "Share the details of your open roles and the right talent will apply.\n",
      "POST A JOB\n",
      "I want a tour\n",
      "Still sightseeing? Connect with the WNW team to show you around.\n",
      "Book a tour\n",
      "Product\n",
      "Hire Creatives?\n",
      "Creative Sign Up\n",
      "Support\n",
      "NTRNL ™\n",
      "WNW\n",
      "Team\n",
      "Magazine\n",
      "Terms of Use\n",
      "Privacy\n",
      "DMCA\n",
      "Shop\n",
      "Magazine\n",
      "Social\n",
      "YouTube\n",
      "LinkedIn\n",
      "Facebook\n",
      "Twitter\n",
      "Instagram\n",
      "Support\n"
     ]
    }
   ],
   "source": [
    "# Let's try one out\n",
    "\n",
    "ed = Website(\"https://workingnotworking.com\")\n",
    "print(ed.title)\n",
    "print(ed.text)"
   ]
  },
  {
   "cell_type": "code",
   "execution_count": 12,
   "id": "9fa6e07d",
   "metadata": {},
   "outputs": [],
   "source": [
    "# Define our system prompt - you can experiment with this later, changing the last sentence to 'Respond in markdown in Spanish.\"\n",
    "\n",
    "system_prompt = \"You are an assistant that analyzes the contents of a website \\\n",
    "and provides a short summary, ignoring text that might be navigation related. \\\n",
    "Respond in markdown.\""
   ]
  },
  {
   "cell_type": "code",
   "execution_count": 13,
   "id": "4898cfa4",
   "metadata": {},
   "outputs": [],
   "source": [
    "# A function that writes a User Prompt that asks for summaries of websites:\n",
    "\n",
    "def user_prompt_for(website):\n",
    "    user_prompt = f\"You are looking at a website titled {website.title}\"\n",
    "    user_prompt += \"\\nThe contents of this website is as follows; \\\n",
    "please provide a short summary of this website in markdown. \\\n",
    "If it includes news or announcements, then summarize these too.\\n\\n\"\n",
    "    user_prompt += website.text\n",
    "    return user_prompt"
   ]
  },
  {
   "cell_type": "code",
   "execution_count": 14,
   "id": "e7542457",
   "metadata": {},
   "outputs": [
    {
     "name": "stdout",
     "output_type": "stream",
     "text": [
      "You are looking at a website titled Connecting companies with the universe's most creative creatives - WNW\n",
      "The contents of this website is as follows; please provide a short summary of this website in markdown. If it includes news or announcements, then summarize these too.\n",
      "\n",
      "We, and our partners, use cookies to deliver our services. By using our website you agree to the use of cookies as described in our\n",
      "Privacy Policy\n",
      ".\n",
      "Okay\n",
      "NTRNL ™\n",
      "Log in\n",
      "NTRNL ™\n",
      "Login\n",
      "Register now\n",
      "Hire the best creative talent. here. now.\n",
      "Discover\n",
      "All\n",
      "All Creatives\n",
      "All Jobs\n",
      "Popular Searches\n",
      "Maya\n",
      "Illustrator / Animator / Artist\n",
      "Sanmi\n",
      "Creative Director / Brand Designer / UI Designer\n",
      "sarah\n",
      "Art Director / Designer / Illustrator\n",
      "Ellen\n",
      "Director / Creative Director / Writer\n",
      "Tobin\n",
      "Director / Writer / Editor (Brand/Content)\n",
      "Rosalee\n",
      "Art Director / Designer / Writer\n",
      "Katie\n",
      "Creative Director / Copywriter / Strategist\n",
      "Michael V.\n",
      "Art Director / UX/IA Designer / Creative Technologist\n",
      "We Give the People (Who Hire People) What They Want\n",
      "A Curated Community of 100,000+ Creatives\n",
      "Imagine if all the portfolio sites of the best freelance, full-time, and part-time talent, from intern to executive across every creative industry, were aggregated, searchable, and filterable. Actually don't imagine it. It's here.\n",
      "Okay, sign me up\n",
      "TECHNOLOGY THAT RESPECTS RECRUITERS\n",
      "Go beyond a generic job post with advanced tools developed alongside actual recruiters. Searching for your next hire is hassle-free. Real-time availability means no chasing.\n",
      "Sign me up Already\n",
      "We Love Recruiters. The Feeling Is Mutual.\n",
      "\"It’s about quality and getting the A+ people”\n",
      "“Angelo Ferrugia, Head of Global Production, Electonic Arts”\n",
      "\"ANNOYINGLY SMART. MARVELOUSLY USEFUL. BIG FAN.”\n",
      "“David Droga, Creative Chairman, Droga5”\n",
      "“WORKING NOT WORKING IS A LIFESAVER FOR ME.”\n",
      "“Margaret Morales, Creative Recruiter, HUGE”\n",
      "“WHY THE FUCK DIDN’T YOU START THIS SOONER?”\n",
      "“Brian Collins, Chief Creative Officer, Collins”\n",
      "Where to Now?\n",
      "I want to look for talent\n",
      "Explore our global talent community to find your next hire. Your search starts (and ends) here.\n",
      "FIND A CREATIVE\n",
      "I Want Talent to Find Me\n",
      "Share the details of your open roles and the right talent will apply.\n",
      "POST A JOB\n",
      "I want a tour\n",
      "Still sightseeing? Connect with the WNW team to show you around.\n",
      "Book a tour\n",
      "Product\n",
      "Hire Creatives?\n",
      "Creative Sign Up\n",
      "Support\n",
      "NTRNL ™\n",
      "WNW\n",
      "Team\n",
      "Magazine\n",
      "Terms of Use\n",
      "Privacy\n",
      "DMCA\n",
      "Shop\n",
      "Magazine\n",
      "Social\n",
      "YouTube\n",
      "LinkedIn\n",
      "Facebook\n",
      "Twitter\n",
      "Instagram\n",
      "Support\n"
     ]
    }
   ],
   "source": [
    "print(user_prompt_for(ed))"
   ]
  },
  {
   "cell_type": "code",
   "execution_count": 15,
   "id": "4e791a3a",
   "metadata": {},
   "outputs": [],
   "source": [
    "# See how this function creates exactly the format above\n",
    "\n",
    "def messages_for(website):\n",
    "    return [\n",
    "        {\"role\": \"system\", \"content\": system_prompt},\n",
    "        {\"role\": \"user\", \"content\": user_prompt_for(website)}\n",
    "    ]"
   ]
  },
  {
   "cell_type": "code",
   "execution_count": 16,
   "id": "dc97d7b9",
   "metadata": {},
   "outputs": [
    {
     "data": {
      "text/plain": [
       "[{'role': 'system',\n",
       "  'content': 'You are an assistant that analyzes the contents of a website and provides a short summary, ignoring text that might be navigation related. Respond in markdown.'},\n",
       " {'role': 'user',\n",
       "  'content': 'You are looking at a website titled Connecting companies with the universe\\'s most creative creatives - WNW\\nThe contents of this website is as follows; please provide a short summary of this website in markdown. If it includes news or announcements, then summarize these too.\\n\\nWe, and our partners, use cookies to deliver our services. By using our website you agree to the use of cookies as described in our\\nPrivacy Policy\\n.\\nOkay\\nNTRNL ™\\nLog in\\nNTRNL ™\\nLogin\\nRegister now\\nHire the best creative talent. here. now.\\nDiscover\\nAll\\nAll Creatives\\nAll Jobs\\nPopular Searches\\nMaya\\nIllustrator / Animator / Artist\\nSanmi\\nCreative Director / Brand Designer / UI Designer\\nsarah\\nArt Director / Designer / Illustrator\\nEllen\\nDirector / Creative Director / Writer\\nTobin\\nDirector / Writer / Editor (Brand/Content)\\nRosalee\\nArt Director / Designer / Writer\\nKatie\\nCreative Director / Copywriter / Strategist\\nMichael V.\\nArt Director / UX/IA Designer / Creative Technologist\\nWe Give the People (Who Hire People) What They Want\\nA Curated Community of 100,000+ Creatives\\nImagine if all the portfolio sites of the best freelance, full-time, and part-time talent, from intern to executive across every creative industry, were aggregated, searchable, and filterable. Actually don\\'t imagine it. It\\'s here.\\nOkay, sign me up\\nTECHNOLOGY THAT RESPECTS RECRUITERS\\nGo beyond a generic job post with advanced tools developed alongside actual recruiters. Searching for your next hire is hassle-free. Real-time availability means no chasing.\\nSign me up Already\\nWe Love Recruiters. The Feeling Is Mutual.\\n\"It’s about quality and getting the A+ people”\\n“Angelo Ferrugia, Head of Global Production, Electonic Arts”\\n\"ANNOYINGLY SMART. MARVELOUSLY USEFUL. BIG FAN.”\\n“David Droga, Creative Chairman, Droga5”\\n“WORKING NOT WORKING IS A LIFESAVER FOR ME.”\\n“Margaret Morales, Creative Recruiter, HUGE”\\n“WHY THE FUCK DIDN’T YOU START THIS SOONER?”\\n“Brian Collins, Chief Creative Officer, Collins”\\nWhere to Now?\\nI want to look for talent\\nExplore our global talent community to find your next hire. Your search starts (and ends) here.\\nFIND A CREATIVE\\nI Want Talent to Find Me\\nShare the details of your open roles and the right talent will apply.\\nPOST A JOB\\nI want a tour\\nStill sightseeing? Connect with the WNW team to show you around.\\nBook a tour\\nProduct\\nHire Creatives?\\nCreative Sign Up\\nSupport\\nNTRNL ™\\nWNW\\nTeam\\nMagazine\\nTerms of Use\\nPrivacy\\nDMCA\\nShop\\nMagazine\\nSocial\\nYouTube\\nLinkedIn\\nFacebook\\nTwitter\\nInstagram\\nSupport'}]"
      ]
     },
     "execution_count": 16,
     "metadata": {},
     "output_type": "execute_result"
    }
   ],
   "source": [
    "messages_for(ed)"
   ]
  },
  {
   "cell_type": "code",
   "execution_count": 17,
   "id": "aff7abd8",
   "metadata": {},
   "outputs": [],
   "source": [
    "# And now: call the OpenAI API. You will get very familiar with this!\n",
    "\n",
    "def summarize(url):\n",
    "    website = Website(url)\n",
    "    response = ollama.chat(model=MODEL, messages=messages_for(website))\n",
    "    return response['message']['content']"
   ]
  },
  {
   "cell_type": "code",
   "execution_count": 21,
   "id": "a5325a8d",
   "metadata": {},
   "outputs": [
    {
     "data": {
      "text/markdown": [
       "**Summary of WNW**\n",
       "=====================\n",
       "\n",
       "* **Mission**: Connecting companies with the universe's most creative creatives.\n",
       "* **Service**: A curated community of 100,000+ creatives, allowing companies to find and hire top talent easily.\n",
       "\n",
       "### Key Features\n",
       "\n",
       "* Advanced job posting tools for recruiters\n",
       "* Real-time availability tracking\n",
       "* Filterable and searchable portfolios of top talent across various creative industries\n",
       "\n",
       "### Quotes from Recruiters\n",
       "\n",
       "* \"It's about quality and getting the A+ people\" - Angelo Ferrugia, Head of Global Production, Electronic Arts\n",
       "* \"ANNOYINGLY SMART. MARVELOUSLY USEFUL. BIG FAN.\" - David Droga, Creative Chairman, Droga5\n",
       "* \"WORKING NOT WORKING IS A LIFESAVER FOR ME.\" - Margaret Morales, Creative Recruiter\n",
       "\n",
       "### Call-to-Action\n",
       "\n",
       "Sign up for WNW to connect with the community of creative talent and find your next hire."
      ],
      "text/plain": [
       "<IPython.core.display.Markdown object>"
      ]
     },
     "metadata": {},
     "output_type": "display_data"
    }
   ],
   "source": [
    "\n",
    "display(Markdown(summarize(\"https://workingnotworking.com\")))"
   ]
  }
 ],
 "metadata": {
  "kernelspec": {
   "display_name": "llms",
   "language": "python",
   "name": "python3"
  },
  "language_info": {
   "codemirror_mode": {
    "name": "ipython",
    "version": 3
   },
   "file_extension": ".py",
   "mimetype": "text/x-python",
   "name": "python",
   "nbconvert_exporter": "python",
   "pygments_lexer": "ipython3",
   "version": "3.12.8"
  }
 },
 "nbformat": 4,
 "nbformat_minor": 5
}
